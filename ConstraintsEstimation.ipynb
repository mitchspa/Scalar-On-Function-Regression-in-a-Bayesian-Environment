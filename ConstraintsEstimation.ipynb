{
  "cells": [
    {
      "cell_type": "code",
      "execution_count": 1,
      "id": "17430f7d",
      "metadata": {
        "id": "17430f7d"
      },
      "outputs": [],
      "source": [
        "import numpy as np\n",
        "import matplotlib.pyplot as plt\n",
        "from scipy.stats import multivariate_normal as norm\n",
        "from itertools import groupby\n",
        "from scipy.stats import mode\n",
        "import time\n",
        "\n",
        "from Data_Generator import data_generator"
      ]
    },
    {
      "cell_type": "code",
      "execution_count": 2,
      "id": "2ac8a8c4",
      "metadata": {
        "id": "2ac8a8c4"
      },
      "outputs": [],
      "source": [
        "from mpmath import mp\n",
        "mp.dps = 100\n",
        "\n",
        "np.random.seed(2024)"
      ]
    },
    {
      "cell_type": "code",
      "execution_count": 3,
      "id": "69a6e7ae",
      "metadata": {
        "id": "69a6e7ae"
      },
      "outputs": [],
      "source": [
        "def k(t,s):\n",
        "    return np.exp(-(t-s)**2)\n",
        "\n",
        "def proj(K,T,T0,f):\n",
        "    tau = np.where(T0==1)[0]\n",
        "    K_tau=K[:, tau]\n",
        "    K_tau_tau = K[tau[:, None], tau]\n",
        "    beta_tau = f[tau]\n",
        "\n",
        "    proj = f-np.dot(K_tau,np.dot(np.linalg.inv(K_tau_tau),beta_tau))\n",
        "\n",
        "    return proj"
      ]
    },
    {
      "cell_type": "code",
      "execution_count": 4,
      "id": "8ebfcff9",
      "metadata": {
        "id": "8ebfcff9"
      },
      "outputs": [],
      "source": [
        "g = 80 # functional grid size\n",
        "T = np.linspace(-5,5,g) # functional domain\n",
        "T01 = np.concatenate((np.zeros(30),np.ones(20),np.zeros(30))) # constraints for group1\n",
        "T02 = np.concatenate((np.zeros(50),np.ones(30))) # constraints for group2\n",
        "beta1 = np.sin(T*np.pi/4) # functional coefficient for group1\n",
        "beta2 = np.sin(T*np.pi/6) # functional coefficient for group 1\n",
        "\n",
        "# coefficient kernel\n",
        "idxs = np.indices((g, g))\n",
        "K = np.fromfunction(np.vectorize(lambda s, t: k(T[s], T[t])), (g, g), dtype=int)\n",
        "if np.linalg.det(K)<=0:\n",
        "    K = K + np.eye(g)*0.0001\n",
        "\n",
        "# RKHS projection\n",
        "beta01 = proj(K,T,T01,beta1)\n",
        "beta02 = proj(K,T,T02,beta2)\n",
        "\n",
        "n = 50 # number of observations\n",
        "\n",
        "def kernel(t,s): # covariate kernel\n",
        "    return np.exp(-(t-s)**2)\n",
        "sigma = 1 # noise variance\n",
        "\n",
        "# generation of functional input and scalar output\n",
        "data1 = data_generator(T,beta01,n,kernel,sigma,plot=False)\n",
        "data2 = data_generator(T,beta02,n,kernel,sigma,plot=False)\n",
        "\n",
        "x1,y1 = data1.i_o()\n",
        "x2,y2 = data2.i_o()\n",
        "\n"
      ]
    },
    {
      "cell_type": "code",
      "execution_count": 5,
      "id": "1f78e51d",
      "metadata": {
        "id": "1f78e51d"
      },
      "outputs": [],
      "source": [
        "# dataset\n",
        "x = np.concatenate((x1,x2))\n",
        "y = np.concatenate((y1,y2))\n",
        "\n",
        "labels = np.concatenate((np.zeros(n), np.ones(n)))"
      ]
    },
    {
      "cell_type": "code",
      "execution_count": 6,
      "id": "9d763739",
      "metadata": {
        "id": "9d763739"
      },
      "outputs": [],
      "source": [
        "class GibbsSampling:\n",
        "    def __init__(self, T, x, y, prior_kernel, labels, sigma=1, alpha=1):\n",
        "\n",
        "        # data\n",
        "        self.T= T\n",
        "        self.x1 = x[labels==0, :]\n",
        "        self.x2 = x[labels==1, :]\n",
        "        self.y1 = y[labels==0]\n",
        "        self.y2 = y[labels==1]\n",
        "        self.sortY = np.concatenate((self.y1, self.y2))\n",
        "\n",
        "        self.sigma=sigma\n",
        "        self.alpha=alpha\n",
        "        self.n = y.shape[0]\n",
        "        self.n1 = self.y1.shape[0]\n",
        "        self.n2 = self.y2.shape[0]\n",
        "        self.g = T.shape[0]\n",
        "        self.labels = labels\n",
        "\n",
        "        # unconstrained kernel\n",
        "        idxs = np.indices((self.g, self.g))\n",
        "        self.K = np.vectorize(prior_kernel)(self.T[idxs[0]], self.T[idxs[1]])\n",
        "        if np.linalg.det(self.K)==0:\n",
        "            self.K = self.K + np.eye(self.g)*0.0001\n",
        "\n",
        "        self.T0_init = np.array([0, 1] * (self.g // 2))\n",
        "        self.chain_T01 = [self.T0_init]\n",
        "        self.chain_T02 = [self.T0_init]\n",
        "\n",
        "        # to avoid unecessary calculations\n",
        "        self.cache1 = {}\n",
        "        self.cache2 = {}\n",
        "\n",
        "        # for double integral\n",
        "        self.step = (self.T[1]-self.T[0])**2\n",
        "\n",
        "        # to keep track of how many candidates have been accepted\n",
        "        self.action1 = []\n",
        "        self.action2 = []\n",
        "\n",
        "    def double_integral(self, K, x):\n",
        "        return (np.einsum('ij,ki,lj->kl', K, x, x) *self.step) + np.eye(x.shape[0])\n",
        "\n",
        "    def T0hash(self, T0):\n",
        "        return ''.join(map(str, T0))\n",
        "\n",
        "    def lkl(self, T01, T02):\n",
        "\n",
        "        current_hash1 = self.T0hash(T01)\n",
        "        if current_hash1 in self.cache1:\n",
        "            _, M1, _, _, _, _, mu1, _ = self.cache1[current_hash1]\n",
        "        else:\n",
        "            K0 = self.get_K0(T01)\n",
        "            if np.linalg.det(K0)<=0:\n",
        "                K0 = K0 + 0.001*np.eye(self.g)\n",
        "\n",
        "            L = np.trapz(K0[:, np.newaxis, :] * self.x1[np.newaxis, :, :], self.T, axis=2).T\n",
        "\n",
        "            M1 = self.double_integral(K0, self.x1)\n",
        "\n",
        "            inv = np.linalg.inv(M1)\n",
        "\n",
        "            S11 = np.dot(np.dot(np.ones(self.n1).T,inv),np.ones(self.n1))\n",
        "            SYY = np.dot(np.dot(self.y1.T,inv),self.y1)\n",
        "            S1Y = np.dot(np.dot(np.ones(self.n1).T,inv),self.y1)\n",
        "\n",
        "            mu1 = S1Y.T/S11\n",
        "            b = 0.5*(SYY-(S1Y**2)/S11)\n",
        "\n",
        "            self.cache1[current_hash1] = (L, M1, inv, S11, S1Y, SYY, mu1, b)\n",
        "\n",
        "\n",
        "        current_hash2 = self.T0hash(T02)\n",
        "        if current_hash2 in self.cache2:\n",
        "            _, M2, _, _, _, _, mu2, _ = self.cache2[current_hash2]\n",
        "        else:\n",
        "            K0 = self.get_K0(T02)\n",
        "            if np.linalg.det(K0)<=0:\n",
        "                K0 = K0 + 0.001*np.eye(self.g)\n",
        "\n",
        "            L = np.trapz(K0[:, np.newaxis, :] * self.x2[np.newaxis, :, :], self.T, axis=2).T\n",
        "\n",
        "            M2 = self.double_integral(K0, self.x2)\n",
        "\n",
        "            inv = np.linalg.inv(M2)\n",
        "\n",
        "            S11 = np.dot(np.dot(np.ones(self.n2).T,inv),np.ones(self.n2))\n",
        "            SYY = np.dot(np.dot(self.y2.T,inv),self.y2)\n",
        "            S1Y = np.dot(np.dot(np.ones(self.n2).T,inv),self.y2)\n",
        "\n",
        "            mu2 = S1Y.T/S11\n",
        "            b = 0.5*(SYY-(S1Y**2)/S11)\n",
        "\n",
        "            self.cache2[current_hash2] = (L, M2, inv, S11, S1Y, SYY, mu2, b)\n",
        "\n",
        "        norm1 = norm(mu1*np.ones(self.n1), M1).pdf(self.y1)\n",
        "        norm2 = norm(mu2*np.ones(self.n2), M2).pdf(self.y2)\n",
        "\n",
        "        return norm1*norm2\n",
        "\n",
        "    def get_K0(self, T0):\n",
        "        tau = np.where(T0==1)[0]\n",
        "        K_tau=self.K[:, tau]\n",
        "        K_tau_tau = self.K[tau[:, None], tau]\n",
        "\n",
        "        if np.linalg.det(K_tau_tau)==0:\n",
        "            K_tau_tau = K_tau_tau+0.0001*np.eye(len(tau))\n",
        "\n",
        "        return self.K- np.dot(np.dot(K_tau, np.linalg.inv(K_tau_tau)), K_tau.T)\n",
        "\n",
        "    def priorT0(self, T0):\n",
        "        r=self.runs(T0)\n",
        "        return mp.exp(-r*self.alpha)\n",
        "\n",
        "    def runs(self, a_list):\n",
        "        runs_zeros = len([i for i, j in groupby(a_list) if i == 0])\n",
        "        runs_ones = len([i for i, j in groupby(a_list) if i == 1])\n",
        "        return runs_ones + runs_zeros\n",
        "\n",
        "    def candidateT0(self, current):\n",
        "        new = current.copy()\n",
        "        coin = np.random.uniform(0,1,1)\n",
        "\n",
        "        if coin<0.2: #split\n",
        "            choices = [i for i in range(1,len(current) - 1) if current[i-1] == 1 and current[i] == 1 and current[i + 1] == 1]\n",
        "            if len(choices)>0:\n",
        "                choice = np.random.choice(choices)\n",
        "                splitting_point = choice\n",
        "                new[splitting_point]=0\n",
        "\n",
        "        if (coin>=0.2) and (coin<0.4): #right removal\n",
        "            choices = [i for i in range(0,len(current)-1) if current[i] == 1 and current[i + 1] == 0]\n",
        "            if len(choices)>0:\n",
        "                choice = np.random.choice(choices)\n",
        "                removing_point = choice\n",
        "                new[removing_point]=0\n",
        "\n",
        "        if (coin>=0.4) and (coin<0.6): #left removal\n",
        "            choices = [i+1 for i in range(0,len(current)-1) if current[i] == 0 and current[i + 1] == 1]\n",
        "            if len(choices)>0:\n",
        "                choice = np.random.choice(choices)\n",
        "                removing_point = choice\n",
        "                new[removing_point]=0\n",
        "\n",
        "        if (coin>=0.6) and (coin<0.8): #right add\n",
        "            choices = [i for i in range(1,len(current)) if current[i-1] == 1 and current[i] == 0]\n",
        "            if len(choices)>0:\n",
        "                choice = np.random.choice(choices)\n",
        "                adding_point = choice\n",
        "                new[adding_point]=1\n",
        "\n",
        "        if coin>=0.8: #left add\n",
        "            choices = [i for i in range(0,len(current)-1) if current[i] == 0 and current[i + 1] == 1]\n",
        "            if len(choices)>0:\n",
        "                choice = np.random.choice(choices)\n",
        "                adding_point = choice\n",
        "                new[adding_point]=1\n",
        "\n",
        "        if sum(current)==0:\n",
        "            choice = np.random.choice(range(len(current)))\n",
        "            new[choice]=1\n",
        "        return new\n",
        "\n",
        "    def RateT01(self, T011, T012):\n",
        "        k1 = self.lkl(T011, self.chain_T02[-1])*self.priorT0(T011)\n",
        "        k2 = self.lkl(T012, self.chain_T02[-1])*self.priorT0(T012)\n",
        "        return k2/k1\n",
        "\n",
        "    def RateT02(self, T021, T022):\n",
        "        k1 = self.lkl(self.chain_T01[-1], T021)*self.priorT0(T021)\n",
        "        k2 = self.lkl(self.chain_T01[-1], T022)*self.priorT0(T022)\n",
        "        return k2/k1\n",
        "\n",
        "    def chain(self, nsim):\n",
        "        for i in range(nsim):\n",
        "            T01_new = self.candidateT0(self.chain_T01[-1])\n",
        "            T02_new = self.candidateT0(self.chain_T02[-1])\n",
        "\n",
        "            u1 = np.random.uniform(0,1,1)\n",
        "            u2 = u1\n",
        "\n",
        "            if self.RateT01(self.chain_T01[-1], T01_new)>u1:\n",
        "                self.action1.append(1)\n",
        "                self.chain_T01.append(T01_new)\n",
        "            else:\n",
        "                self.action1.append(0)\n",
        "                self.chain_T01.append(self.chain_T01[-1])\n",
        "\n",
        "            if self.RateT02(self.chain_T02[-1], T02_new)>u2:\n",
        "                self.action2.append(1)\n",
        "                self.chain_T02.append(T02_new)\n",
        "            else:\n",
        "                self.action2.append(0)\n",
        "                self.chain_T02.append(self.chain_T02[-1])\n",
        "\n",
        "        return self.chain_T01, self.chain_T02\n",
        ""
      ]
    },
    {
      "cell_type": "code",
      "execution_count": 8,
      "id": "6b694441",
      "metadata": {
        "scrolled": true,
        "colab": {
          "base_uri": "https://localhost:8080/"
        },
        "id": "6b694441",
        "outputId": "bbad2f30-0a04-42c6-a3d9-ddb163f7e3e8"
      },
      "outputs": [
        {
          "output_type": "stream",
          "name": "stdout",
          "text": [
            "Time Required: 5.814698004722596\n",
            "\n",
            "Number of T0s Visited: 2329.\n"
          ]
        }
      ],
      "source": [
        "model = GibbsSampling(T, x, y, kernel, labels, alpha = 9)\n",
        "\n",
        "st = time.time()\n",
        "chains = model.chain(nsim = 10000)\n",
        "\n",
        "print(f'Time Required: {(time.time()-st)/60}\\n')\n",
        "print(f'Number of T0s Visited: {len(model.cache1.keys())+len(model.cache2.keys())}.')"
      ]
    },
    {
      "cell_type": "code",
      "execution_count": 9,
      "id": "7c8706ab",
      "metadata": {
        "colab": {
          "base_uri": "https://localhost:8080/",
          "height": 486
        },
        "id": "7c8706ab",
        "outputId": "40f35570-91f0-4161-fff7-e39129641532"
      },
      "outputs": [
        {
          "output_type": "execute_result",
          "data": {
            "text/plain": [
              "Text(0.5, 1.0, 'T0 for Group 2, RWMH-within-Gibbs')"
            ]
          },
          "metadata": {},
          "execution_count": 9
        },
        {
          "output_type": "display_data",
          "data": {
            "text/plain": [
              "<Figure size 1200x500 with 2 Axes>"
            ],
            "image/png": "[encoded data removed]"
          },
          "metadata": {}
        }
      ],
      "source": [
        "chain_T01 = np.array(chains[0][3300:])\n",
        "chain_T02 = np.array(chains[1][3300:])\n",
        "\n",
        "T01_est = np.median(chain_T01, axis = 0)\n",
        "T02_est = np.median(chain_T02, axis = 0)\n",
        "\n",
        "fig, ax = plt.subplots(1, 2, figsize = (12,5))\n",
        "\n",
        "ax[0].plot(range(g), T01_est,label='Estimated T01')\n",
        "ax[0].plot(range(g), T01,label='Actual T01')\n",
        "ax[0].legend(fontsize = 10)\n",
        "ax[0].set_title('T0 for Group 1, RWMH-within-Gibbs')\n",
        "ax[1].plot(range(g), T02_est,label='Estimated T02')\n",
        "ax[1].plot(range(g), T02,label='Actual T02')\n",
        "ax[1].legend(fontsize = 10)\n",
        "ax[1].set_title('T0 for Group 2, RWMH-within-Gibbs')"
      ]
    }
  ],
  "metadata": {
    "kernelspec": {
      "display_name": "Python 3 (ipykernel)",
      "language": "python",
      "name": "python3"
    },
    "language_info": {
      "codemirror_mode": {
        "name": "ipython",
        "version": 3
      },
      "file_extension": ".py",
      "mimetype": "text/x-python",
      "name": "python",
      "nbconvert_exporter": "python",
      "pygments_lexer": "ipython3",
      "version": "3.10.9"
    },
    "colab": {
      "provenance": []
    }
  },
  "nbformat": 4,
  "nbformat_minor": 5
}